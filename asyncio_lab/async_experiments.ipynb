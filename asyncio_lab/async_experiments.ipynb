{
 "cells": [
  {
   "cell_type": "code",
   "execution_count": 2,
   "metadata": {
    "collapsed": true,
    "ExecuteTime": {
     "end_time": "2024-03-20T01:02:54.524680Z",
     "start_time": "2024-03-20T01:02:54.519438Z"
    }
   },
   "outputs": [],
   "source": [
    "import asyncio\n",
    "import time"
   ]
  },
  {
   "cell_type": "code",
   "execution_count": 9,
   "outputs": [],
   "source": [
    "async def async_sleeper(id_: int):\n",
    "    await asyncio.sleep(1)\n",
    "    print(f\"Это асинхронный сон из функции {id_}\")\n",
    "\n",
    "\n",
    "def sleeper(id_: int):\n",
    "    time.sleep(1)\n",
    "    print(f\"Это синхронный сон из функции {id_}\")"
   ],
   "metadata": {
    "collapsed": false,
    "ExecuteTime": {
     "end_time": "2024-03-20T01:09:59.741617Z",
     "start_time": "2024-03-20T01:09:59.739001Z"
    }
   }
  },
  {
   "cell_type": "raw",
   "source": [
    "Пример синхронного кода:"
   ],
   "metadata": {
    "collapsed": false
   }
  },
  {
   "cell_type": "code",
   "execution_count": 13,
   "outputs": [
    {
     "name": "stdout",
     "output_type": "stream",
     "text": [
      "Это синхронный сон из функции 0\n",
      "Это синхронный сон из функции 1\n",
      "Это синхронный сон из функции 2\n",
      "Это синхронный сон из функции 3\n",
      "Это синхронный сон из функции 4\n",
      "Это синхронный сон из функции 5\n",
      "Это синхронный сон из функции 6\n",
      "Это синхронный сон из функции 7\n",
      "Это синхронный сон из функции 8\n",
      "Это синхронный сон из функции 9\n"
     ]
    }
   ],
   "source": [
    "def main():\n",
    "    for i in range(10):\n",
    "        sleeper(i)\n",
    "\n",
    "main()"
   ],
   "metadata": {
    "collapsed": false,
    "ExecuteTime": {
     "end_time": "2024-03-22T08:28:10.879273Z",
     "start_time": "2024-03-22T08:28:00.787906Z"
    }
   }
  },
  {
   "cell_type": "raw",
   "source": [
    "Пример асинхронного кода:"
   ],
   "metadata": {
    "collapsed": false
   }
  },
  {
   "cell_type": "code",
   "execution_count": 14,
   "outputs": [
    {
     "name": "stdout",
     "output_type": "stream",
     "text": [
      "Это асинхронный сон из функции 0\n",
      "Это асинхронный сон из функции 1\n",
      "Это асинхронный сон из функции 2\n",
      "Это асинхронный сон из функции 3\n",
      "Это асинхронный сон из функции 4\n",
      "Это асинхронный сон из функции 5\n",
      "Это асинхронный сон из функции 6\n",
      "Это асинхронный сон из функции 7\n",
      "Это асинхронный сон из функции 8\n",
      "Это асинхронный сон из функции 9\n",
      "Время выполнения программы: 1.00258207321167\n"
     ]
    }
   ],
   "source": [
    "async def main():\n",
    "    await asyncio.gather(*[async_sleeper(i) for i in range(10)])\n",
    "\n",
    "start = time.time()\n",
    "await main()\n",
    "print(f\"Время выполнения программы: {time.time() - start}\")"
   ],
   "metadata": {
    "collapsed": false,
    "ExecuteTime": {
     "end_time": "2024-03-22T08:28:15.899966Z",
     "start_time": "2024-03-22T08:28:14.895343Z"
    }
   }
  },
  {
   "cell_type": "raw",
   "source": [
    "Это какой-то текст с описанием и справочной информацией"
   ],
   "metadata": {
    "collapsed": false
   }
  },
  {
   "cell_type": "code",
   "execution_count": null,
   "outputs": [],
   "source": [],
   "metadata": {
    "collapsed": false
   }
  }
 ],
 "metadata": {
  "kernelspec": {
   "display_name": "Python 3",
   "language": "python",
   "name": "python3"
  },
  "language_info": {
   "codemirror_mode": {
    "name": "ipython",
    "version": 2
   },
   "file_extension": ".py",
   "mimetype": "text/x-python",
   "name": "python",
   "nbconvert_exporter": "python",
   "pygments_lexer": "ipython2",
   "version": "2.7.6"
  }
 },
 "nbformat": 4,
 "nbformat_minor": 0
}
